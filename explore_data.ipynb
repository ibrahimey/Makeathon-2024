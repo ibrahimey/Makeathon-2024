{
 "cells": [
  {
   "cell_type": "code",
   "id": "initial_id",
   "metadata": {
    "collapsed": true,
    "ExecuteTime": {
     "end_time": "2024-04-26T21:37:48.807095Z",
     "start_time": "2024-04-26T21:37:48.804126Z"
    }
   },
   "source": [
    "import pandas as pd\n",
    "import numpy as np"
   ],
   "outputs": [],
   "execution_count": 25
  },
  {
   "metadata": {
    "ExecuteTime": {
     "end_time": "2024-04-26T21:06:01.079642Z",
     "start_time": "2024-04-26T21:06:01.059583Z"
    }
   },
   "cell_type": "code",
   "source": "df = pd.read_csv('data/opendata_wka_ib_gv_vb_sh_20240103.csv', delimiter=';')",
   "id": "5642c33f88a11011",
   "outputs": [],
   "execution_count": 4
  },
  {
   "metadata": {
    "ExecuteTime": {
     "end_time": "2024-04-26T21:06:05.282050Z",
     "start_time": "2024-04-26T21:06:05.263010Z"
    }
   },
   "cell_type": "code",
   "source": "df.head()",
   "id": "b830aa63b9424cc4",
   "outputs": [
    {
     "data": {
      "text/plain": [
       "    KREIS GEMEINDE                   TYP HERSTELLER NABENHOEHE  \\\n",
       "0    Kiel     Kiel  Nordex N131 - 3,0 MW     Nordex        134   \n",
       "1    Kiel     Kiel  Nordex N131 - 3,0 MW     Nordex        134   \n",
       "2    Kiel     Kiel  Nordex N131 - 3,0 MW     Nordex        134   \n",
       "3  Lübeck   Lübeck        Enercon E 82 E    Enercon         78   \n",
       "4  Lübeck   Lübeck        Enercon E-82 E    Enercon         85   \n",
       "\n",
       "  ROTORDURCHMESSER SCHALLLEISTUNGSPEGEL  LEISTUNG        LEISTUNGSBEZUG  \\\n",
       "0              131                  NaN      3000  kW Nennleist. Rotor.   \n",
       "1              131                  NaN      3000  kW Nennleist. Rotor.   \n",
       "2              131                  NaN      3000  kW Nennleist. Rotor.   \n",
       "3               82          104,5 dB(A)      2300  kW Nennleist. Rotor.   \n",
       "4               82                104,5      2300  kW Nennleist. Rotor.   \n",
       "\n",
       "    OSTWERT  NORDWERT GENEHMIGT_AM INBETRIEBNAHME        STATUS      BST_NR  \\\n",
       "0  32571605   6013660          NaN            NaN  im Gen.Verf.  2000000317   \n",
       "1  32572117   6013490          NaN            NaN  im Gen.Verf.  2000000317   \n",
       "2  32572497   6013607          NaN            NaN  im Gen.Verf.  2000000317   \n",
       "3  32619817   5978875   01.04.2011     25.09.2012    in Betrieb  3000924205   \n",
       "4  32619815   5977994   01.04.2011     25.09.2012    in Betrieb  3000924205   \n",
       "\n",
       "   ANL_NR  AKTENZEICHEN  DATENDATUM      DATENQUELLE  \n",
       "0       1  G20/2016/085  03.01.2024  LfU SH, Abtl. 7  \n",
       "1       2  G20/2016/086  03.01.2024  LfU SH, Abtl. 7  \n",
       "2       3  G20/2016/087  03.01.2024  LfU SH, Abtl. 7  \n",
       "3       1  G30/031/2010  03.01.2024  LfU SH, Abtl. 7  \n",
       "4       2  G30/030/2010  03.01.2024  LfU SH, Abtl. 7  "
      ],
      "text/html": [
       "<div>\n",
       "<style scoped>\n",
       "    .dataframe tbody tr th:only-of-type {\n",
       "        vertical-align: middle;\n",
       "    }\n",
       "\n",
       "    .dataframe tbody tr th {\n",
       "        vertical-align: top;\n",
       "    }\n",
       "\n",
       "    .dataframe thead th {\n",
       "        text-align: right;\n",
       "    }\n",
       "</style>\n",
       "<table border=\"1\" class=\"dataframe\">\n",
       "  <thead>\n",
       "    <tr style=\"text-align: right;\">\n",
       "      <th></th>\n",
       "      <th>KREIS</th>\n",
       "      <th>GEMEINDE</th>\n",
       "      <th>TYP</th>\n",
       "      <th>HERSTELLER</th>\n",
       "      <th>NABENHOEHE</th>\n",
       "      <th>ROTORDURCHMESSER</th>\n",
       "      <th>SCHALLLEISTUNGSPEGEL</th>\n",
       "      <th>LEISTUNG</th>\n",
       "      <th>LEISTUNGSBEZUG</th>\n",
       "      <th>OSTWERT</th>\n",
       "      <th>NORDWERT</th>\n",
       "      <th>GENEHMIGT_AM</th>\n",
       "      <th>INBETRIEBNAHME</th>\n",
       "      <th>STATUS</th>\n",
       "      <th>BST_NR</th>\n",
       "      <th>ANL_NR</th>\n",
       "      <th>AKTENZEICHEN</th>\n",
       "      <th>DATENDATUM</th>\n",
       "      <th>DATENQUELLE</th>\n",
       "    </tr>\n",
       "  </thead>\n",
       "  <tbody>\n",
       "    <tr>\n",
       "      <th>0</th>\n",
       "      <td>Kiel</td>\n",
       "      <td>Kiel</td>\n",
       "      <td>Nordex N131 - 3,0 MW</td>\n",
       "      <td>Nordex</td>\n",
       "      <td>134</td>\n",
       "      <td>131</td>\n",
       "      <td>NaN</td>\n",
       "      <td>3000</td>\n",
       "      <td>kW Nennleist. Rotor.</td>\n",
       "      <td>32571605</td>\n",
       "      <td>6013660</td>\n",
       "      <td>NaN</td>\n",
       "      <td>NaN</td>\n",
       "      <td>im Gen.Verf.</td>\n",
       "      <td>2000000317</td>\n",
       "      <td>1</td>\n",
       "      <td>G20/2016/085</td>\n",
       "      <td>03.01.2024</td>\n",
       "      <td>LfU SH, Abtl. 7</td>\n",
       "    </tr>\n",
       "    <tr>\n",
       "      <th>1</th>\n",
       "      <td>Kiel</td>\n",
       "      <td>Kiel</td>\n",
       "      <td>Nordex N131 - 3,0 MW</td>\n",
       "      <td>Nordex</td>\n",
       "      <td>134</td>\n",
       "      <td>131</td>\n",
       "      <td>NaN</td>\n",
       "      <td>3000</td>\n",
       "      <td>kW Nennleist. Rotor.</td>\n",
       "      <td>32572117</td>\n",
       "      <td>6013490</td>\n",
       "      <td>NaN</td>\n",
       "      <td>NaN</td>\n",
       "      <td>im Gen.Verf.</td>\n",
       "      <td>2000000317</td>\n",
       "      <td>2</td>\n",
       "      <td>G20/2016/086</td>\n",
       "      <td>03.01.2024</td>\n",
       "      <td>LfU SH, Abtl. 7</td>\n",
       "    </tr>\n",
       "    <tr>\n",
       "      <th>2</th>\n",
       "      <td>Kiel</td>\n",
       "      <td>Kiel</td>\n",
       "      <td>Nordex N131 - 3,0 MW</td>\n",
       "      <td>Nordex</td>\n",
       "      <td>134</td>\n",
       "      <td>131</td>\n",
       "      <td>NaN</td>\n",
       "      <td>3000</td>\n",
       "      <td>kW Nennleist. Rotor.</td>\n",
       "      <td>32572497</td>\n",
       "      <td>6013607</td>\n",
       "      <td>NaN</td>\n",
       "      <td>NaN</td>\n",
       "      <td>im Gen.Verf.</td>\n",
       "      <td>2000000317</td>\n",
       "      <td>3</td>\n",
       "      <td>G20/2016/087</td>\n",
       "      <td>03.01.2024</td>\n",
       "      <td>LfU SH, Abtl. 7</td>\n",
       "    </tr>\n",
       "    <tr>\n",
       "      <th>3</th>\n",
       "      <td>Lübeck</td>\n",
       "      <td>Lübeck</td>\n",
       "      <td>Enercon E 82 E</td>\n",
       "      <td>Enercon</td>\n",
       "      <td>78</td>\n",
       "      <td>82</td>\n",
       "      <td>104,5 dB(A)</td>\n",
       "      <td>2300</td>\n",
       "      <td>kW Nennleist. Rotor.</td>\n",
       "      <td>32619817</td>\n",
       "      <td>5978875</td>\n",
       "      <td>01.04.2011</td>\n",
       "      <td>25.09.2012</td>\n",
       "      <td>in Betrieb</td>\n",
       "      <td>3000924205</td>\n",
       "      <td>1</td>\n",
       "      <td>G30/031/2010</td>\n",
       "      <td>03.01.2024</td>\n",
       "      <td>LfU SH, Abtl. 7</td>\n",
       "    </tr>\n",
       "    <tr>\n",
       "      <th>4</th>\n",
       "      <td>Lübeck</td>\n",
       "      <td>Lübeck</td>\n",
       "      <td>Enercon E-82 E</td>\n",
       "      <td>Enercon</td>\n",
       "      <td>85</td>\n",
       "      <td>82</td>\n",
       "      <td>104,5</td>\n",
       "      <td>2300</td>\n",
       "      <td>kW Nennleist. Rotor.</td>\n",
       "      <td>32619815</td>\n",
       "      <td>5977994</td>\n",
       "      <td>01.04.2011</td>\n",
       "      <td>25.09.2012</td>\n",
       "      <td>in Betrieb</td>\n",
       "      <td>3000924205</td>\n",
       "      <td>2</td>\n",
       "      <td>G30/030/2010</td>\n",
       "      <td>03.01.2024</td>\n",
       "      <td>LfU SH, Abtl. 7</td>\n",
       "    </tr>\n",
       "  </tbody>\n",
       "</table>\n",
       "</div>"
      ]
     },
     "execution_count": 5,
     "metadata": {},
     "output_type": "execute_result"
    }
   ],
   "execution_count": 5
  },
  {
   "metadata": {
    "ExecuteTime": {
     "end_time": "2024-04-26T21:07:48.220804Z",
     "start_time": "2024-04-26T21:07:48.215674Z"
    }
   },
   "cell_type": "code",
   "source": "df.columns",
   "id": "ecdb2e2038fa9bf8",
   "outputs": [
    {
     "data": {
      "text/plain": [
       "Index(['KREIS', 'GEMEINDE', 'TYP', 'HERSTELLER', 'NABENHOEHE',\n",
       "       'ROTORDURCHMESSER', 'SCHALLLEISTUNGSPEGEL', 'LEISTUNG',\n",
       "       'LEISTUNGSBEZUG', 'OSTWERT', 'NORDWERT', 'GENEHMIGT_AM',\n",
       "       'INBETRIEBNAHME', 'STATUS', 'BST_NR', 'ANL_NR', 'AKTENZEICHEN',\n",
       "       'DATENDATUM', 'DATENQUELLE'],\n",
       "      dtype='object')"
      ]
     },
     "execution_count": 6,
     "metadata": {},
     "output_type": "execute_result"
    }
   ],
   "execution_count": 6
  },
  {
   "metadata": {
    "ExecuteTime": {
     "end_time": "2024-04-26T21:08:26.855580Z",
     "start_time": "2024-04-26T21:08:26.835705Z"
    }
   },
   "cell_type": "code",
   "source": "df.describe()",
   "id": "b4182a23c71e600",
   "outputs": [
    {
     "data": {
      "text/plain": [
       "          LEISTUNG       OSTWERT      NORDWERT        BST_NR       ANL_NR\n",
       "count  3943.000000  3.943000e+03  3.943000e+03  3.943000e+03  3943.000000\n",
       "mean   3179.182602  3.253154e+07  6.018114e+06  5.542424e+10     8.476287\n",
       "std    1550.650587  4.269946e+04  3.650556e+04  4.014549e+09    53.992369\n",
       "min       1.000000  3.247185e+07  5.919141e+06  2.000000e+09     1.000000\n",
       "25%    2300.000000  3.250019e+07  5.985486e+06  5.308711e+10     1.000000\n",
       "50%    3000.000000  3.251559e+07  6.012607e+06  5.416634e+10     3.000000\n",
       "75%    4200.000000  3.255370e+07  6.051842e+06  5.907700e+10     6.000000\n",
       "max    7200.000000  3.264678e+07  6.083820e+06  6.209345e+10  1006.000000"
      ],
      "text/html": [
       "<div>\n",
       "<style scoped>\n",
       "    .dataframe tbody tr th:only-of-type {\n",
       "        vertical-align: middle;\n",
       "    }\n",
       "\n",
       "    .dataframe tbody tr th {\n",
       "        vertical-align: top;\n",
       "    }\n",
       "\n",
       "    .dataframe thead th {\n",
       "        text-align: right;\n",
       "    }\n",
       "</style>\n",
       "<table border=\"1\" class=\"dataframe\">\n",
       "  <thead>\n",
       "    <tr style=\"text-align: right;\">\n",
       "      <th></th>\n",
       "      <th>LEISTUNG</th>\n",
       "      <th>OSTWERT</th>\n",
       "      <th>NORDWERT</th>\n",
       "      <th>BST_NR</th>\n",
       "      <th>ANL_NR</th>\n",
       "    </tr>\n",
       "  </thead>\n",
       "  <tbody>\n",
       "    <tr>\n",
       "      <th>count</th>\n",
       "      <td>3943.000000</td>\n",
       "      <td>3.943000e+03</td>\n",
       "      <td>3.943000e+03</td>\n",
       "      <td>3.943000e+03</td>\n",
       "      <td>3943.000000</td>\n",
       "    </tr>\n",
       "    <tr>\n",
       "      <th>mean</th>\n",
       "      <td>3179.182602</td>\n",
       "      <td>3.253154e+07</td>\n",
       "      <td>6.018114e+06</td>\n",
       "      <td>5.542424e+10</td>\n",
       "      <td>8.476287</td>\n",
       "    </tr>\n",
       "    <tr>\n",
       "      <th>std</th>\n",
       "      <td>1550.650587</td>\n",
       "      <td>4.269946e+04</td>\n",
       "      <td>3.650556e+04</td>\n",
       "      <td>4.014549e+09</td>\n",
       "      <td>53.992369</td>\n",
       "    </tr>\n",
       "    <tr>\n",
       "      <th>min</th>\n",
       "      <td>1.000000</td>\n",
       "      <td>3.247185e+07</td>\n",
       "      <td>5.919141e+06</td>\n",
       "      <td>2.000000e+09</td>\n",
       "      <td>1.000000</td>\n",
       "    </tr>\n",
       "    <tr>\n",
       "      <th>25%</th>\n",
       "      <td>2300.000000</td>\n",
       "      <td>3.250019e+07</td>\n",
       "      <td>5.985486e+06</td>\n",
       "      <td>5.308711e+10</td>\n",
       "      <td>1.000000</td>\n",
       "    </tr>\n",
       "    <tr>\n",
       "      <th>50%</th>\n",
       "      <td>3000.000000</td>\n",
       "      <td>3.251559e+07</td>\n",
       "      <td>6.012607e+06</td>\n",
       "      <td>5.416634e+10</td>\n",
       "      <td>3.000000</td>\n",
       "    </tr>\n",
       "    <tr>\n",
       "      <th>75%</th>\n",
       "      <td>4200.000000</td>\n",
       "      <td>3.255370e+07</td>\n",
       "      <td>6.051842e+06</td>\n",
       "      <td>5.907700e+10</td>\n",
       "      <td>6.000000</td>\n",
       "    </tr>\n",
       "    <tr>\n",
       "      <th>max</th>\n",
       "      <td>7200.000000</td>\n",
       "      <td>3.264678e+07</td>\n",
       "      <td>6.083820e+06</td>\n",
       "      <td>6.209345e+10</td>\n",
       "      <td>1006.000000</td>\n",
       "    </tr>\n",
       "  </tbody>\n",
       "</table>\n",
       "</div>"
      ]
     },
     "execution_count": 7,
     "metadata": {},
     "output_type": "execute_result"
    }
   ],
   "execution_count": 7
  },
  {
   "metadata": {
    "ExecuteTime": {
     "end_time": "2024-04-26T21:08:46.979127Z",
     "start_time": "2024-04-26T21:08:46.967395Z"
    }
   },
   "cell_type": "code",
   "source": "df.info()",
   "id": "c168f1b6b94c1c9d",
   "outputs": [
    {
     "name": "stdout",
     "output_type": "stream",
     "text": [
      "<class 'pandas.core.frame.DataFrame'>\n",
      "RangeIndex: 3943 entries, 0 to 3942\n",
      "Data columns (total 19 columns):\n",
      " #   Column                Non-Null Count  Dtype \n",
      "---  ------                --------------  ----- \n",
      " 0   KREIS                 3943 non-null   object\n",
      " 1   GEMEINDE              3943 non-null   object\n",
      " 2   TYP                   3924 non-null   object\n",
      " 3   HERSTELLER            3943 non-null   object\n",
      " 4   NABENHOEHE            3918 non-null   object\n",
      " 5   ROTORDURCHMESSER      3917 non-null   object\n",
      " 6   SCHALLLEISTUNGSPEGEL  3730 non-null   object\n",
      " 7   LEISTUNG              3943 non-null   int64 \n",
      " 8   LEISTUNGSBEZUG        3943 non-null   object\n",
      " 9   OSTWERT               3943 non-null   int64 \n",
      " 10  NORDWERT              3943 non-null   int64 \n",
      " 11  GENEHMIGT_AM          3542 non-null   object\n",
      " 12  INBETRIEBNAHME        3170 non-null   object\n",
      " 13  STATUS                3943 non-null   object\n",
      " 14  BST_NR                3943 non-null   int64 \n",
      " 15  ANL_NR                3943 non-null   int64 \n",
      " 16  AKTENZEICHEN          3943 non-null   object\n",
      " 17  DATENDATUM            3943 non-null   object\n",
      " 18  DATENQUELLE           3943 non-null   object\n",
      "dtypes: int64(5), object(14)\n",
      "memory usage: 585.4+ KB\n"
     ]
    }
   ],
   "execution_count": 8
  },
  {
   "metadata": {
    "ExecuteTime": {
     "end_time": "2024-04-26T21:12:03.648359Z",
     "start_time": "2024-04-26T21:12:03.637211Z"
    }
   },
   "cell_type": "code",
   "source": "df.corr(numeric_only=True)",
   "id": "ee8175ff92491bc6",
   "outputs": [
    {
     "data": {
      "text/plain": [
       "          LEISTUNG   OSTWERT  NORDWERT    BST_NR    ANL_NR\n",
       "LEISTUNG  1.000000  0.012333  0.020180  0.068850  0.054832\n",
       "OSTWERT   0.012333  1.000000 -0.325757  0.249372  0.015165\n",
       "NORDWERT  0.020180 -0.325757  1.000000  0.017655 -0.030261\n",
       "BST_NR    0.068850  0.249372  0.017655  1.000000 -0.029239\n",
       "ANL_NR    0.054832  0.015165 -0.030261 -0.029239  1.000000"
      ],
      "text/html": [
       "<div>\n",
       "<style scoped>\n",
       "    .dataframe tbody tr th:only-of-type {\n",
       "        vertical-align: middle;\n",
       "    }\n",
       "\n",
       "    .dataframe tbody tr th {\n",
       "        vertical-align: top;\n",
       "    }\n",
       "\n",
       "    .dataframe thead th {\n",
       "        text-align: right;\n",
       "    }\n",
       "</style>\n",
       "<table border=\"1\" class=\"dataframe\">\n",
       "  <thead>\n",
       "    <tr style=\"text-align: right;\">\n",
       "      <th></th>\n",
       "      <th>LEISTUNG</th>\n",
       "      <th>OSTWERT</th>\n",
       "      <th>NORDWERT</th>\n",
       "      <th>BST_NR</th>\n",
       "      <th>ANL_NR</th>\n",
       "    </tr>\n",
       "  </thead>\n",
       "  <tbody>\n",
       "    <tr>\n",
       "      <th>LEISTUNG</th>\n",
       "      <td>1.000000</td>\n",
       "      <td>0.012333</td>\n",
       "      <td>0.020180</td>\n",
       "      <td>0.068850</td>\n",
       "      <td>0.054832</td>\n",
       "    </tr>\n",
       "    <tr>\n",
       "      <th>OSTWERT</th>\n",
       "      <td>0.012333</td>\n",
       "      <td>1.000000</td>\n",
       "      <td>-0.325757</td>\n",
       "      <td>0.249372</td>\n",
       "      <td>0.015165</td>\n",
       "    </tr>\n",
       "    <tr>\n",
       "      <th>NORDWERT</th>\n",
       "      <td>0.020180</td>\n",
       "      <td>-0.325757</td>\n",
       "      <td>1.000000</td>\n",
       "      <td>0.017655</td>\n",
       "      <td>-0.030261</td>\n",
       "    </tr>\n",
       "    <tr>\n",
       "      <th>BST_NR</th>\n",
       "      <td>0.068850</td>\n",
       "      <td>0.249372</td>\n",
       "      <td>0.017655</td>\n",
       "      <td>1.000000</td>\n",
       "      <td>-0.029239</td>\n",
       "    </tr>\n",
       "    <tr>\n",
       "      <th>ANL_NR</th>\n",
       "      <td>0.054832</td>\n",
       "      <td>0.015165</td>\n",
       "      <td>-0.030261</td>\n",
       "      <td>-0.029239</td>\n",
       "      <td>1.000000</td>\n",
       "    </tr>\n",
       "  </tbody>\n",
       "</table>\n",
       "</div>"
      ]
     },
     "execution_count": 10,
     "metadata": {},
     "output_type": "execute_result"
    }
   ],
   "execution_count": 10
  },
  {
   "metadata": {
    "ExecuteTime": {
     "end_time": "2024-04-26T21:27:06.257604Z",
     "start_time": "2024-04-26T21:27:06.241849Z"
    }
   },
   "cell_type": "code",
   "source": "df[df.BST_NR == 2000000317]",
   "id": "3c7000fc1a251da5",
   "outputs": [
    {
     "data": {
      "text/plain": [
       "  KREIS GEMEINDE                   TYP HERSTELLER NABENHOEHE ROTORDURCHMESSER  \\\n",
       "0  Kiel     Kiel  Nordex N131 - 3,0 MW     Nordex        134              131   \n",
       "1  Kiel     Kiel  Nordex N131 - 3,0 MW     Nordex        134              131   \n",
       "2  Kiel     Kiel  Nordex N131 - 3,0 MW     Nordex        134              131   \n",
       "\n",
       "  SCHALLLEISTUNGSPEGEL  LEISTUNG        LEISTUNGSBEZUG   OSTWERT  NORDWERT  \\\n",
       "0                  NaN      3000  kW Nennleist. Rotor.  32571605   6013660   \n",
       "1                  NaN      3000  kW Nennleist. Rotor.  32572117   6013490   \n",
       "2                  NaN      3000  kW Nennleist. Rotor.  32572497   6013607   \n",
       "\n",
       "  GENEHMIGT_AM INBETRIEBNAHME        STATUS      BST_NR  ANL_NR  AKTENZEICHEN  \\\n",
       "0          NaN            NaN  im Gen.Verf.  2000000317       1  G20/2016/085   \n",
       "1          NaN            NaN  im Gen.Verf.  2000000317       2  G20/2016/086   \n",
       "2          NaN            NaN  im Gen.Verf.  2000000317       3  G20/2016/087   \n",
       "\n",
       "   DATENDATUM      DATENQUELLE  \n",
       "0  03.01.2024  LfU SH, Abtl. 7  \n",
       "1  03.01.2024  LfU SH, Abtl. 7  \n",
       "2  03.01.2024  LfU SH, Abtl. 7  "
      ],
      "text/html": [
       "<div>\n",
       "<style scoped>\n",
       "    .dataframe tbody tr th:only-of-type {\n",
       "        vertical-align: middle;\n",
       "    }\n",
       "\n",
       "    .dataframe tbody tr th {\n",
       "        vertical-align: top;\n",
       "    }\n",
       "\n",
       "    .dataframe thead th {\n",
       "        text-align: right;\n",
       "    }\n",
       "</style>\n",
       "<table border=\"1\" class=\"dataframe\">\n",
       "  <thead>\n",
       "    <tr style=\"text-align: right;\">\n",
       "      <th></th>\n",
       "      <th>KREIS</th>\n",
       "      <th>GEMEINDE</th>\n",
       "      <th>TYP</th>\n",
       "      <th>HERSTELLER</th>\n",
       "      <th>NABENHOEHE</th>\n",
       "      <th>ROTORDURCHMESSER</th>\n",
       "      <th>SCHALLLEISTUNGSPEGEL</th>\n",
       "      <th>LEISTUNG</th>\n",
       "      <th>LEISTUNGSBEZUG</th>\n",
       "      <th>OSTWERT</th>\n",
       "      <th>NORDWERT</th>\n",
       "      <th>GENEHMIGT_AM</th>\n",
       "      <th>INBETRIEBNAHME</th>\n",
       "      <th>STATUS</th>\n",
       "      <th>BST_NR</th>\n",
       "      <th>ANL_NR</th>\n",
       "      <th>AKTENZEICHEN</th>\n",
       "      <th>DATENDATUM</th>\n",
       "      <th>DATENQUELLE</th>\n",
       "    </tr>\n",
       "  </thead>\n",
       "  <tbody>\n",
       "    <tr>\n",
       "      <th>0</th>\n",
       "      <td>Kiel</td>\n",
       "      <td>Kiel</td>\n",
       "      <td>Nordex N131 - 3,0 MW</td>\n",
       "      <td>Nordex</td>\n",
       "      <td>134</td>\n",
       "      <td>131</td>\n",
       "      <td>NaN</td>\n",
       "      <td>3000</td>\n",
       "      <td>kW Nennleist. Rotor.</td>\n",
       "      <td>32571605</td>\n",
       "      <td>6013660</td>\n",
       "      <td>NaN</td>\n",
       "      <td>NaN</td>\n",
       "      <td>im Gen.Verf.</td>\n",
       "      <td>2000000317</td>\n",
       "      <td>1</td>\n",
       "      <td>G20/2016/085</td>\n",
       "      <td>03.01.2024</td>\n",
       "      <td>LfU SH, Abtl. 7</td>\n",
       "    </tr>\n",
       "    <tr>\n",
       "      <th>1</th>\n",
       "      <td>Kiel</td>\n",
       "      <td>Kiel</td>\n",
       "      <td>Nordex N131 - 3,0 MW</td>\n",
       "      <td>Nordex</td>\n",
       "      <td>134</td>\n",
       "      <td>131</td>\n",
       "      <td>NaN</td>\n",
       "      <td>3000</td>\n",
       "      <td>kW Nennleist. Rotor.</td>\n",
       "      <td>32572117</td>\n",
       "      <td>6013490</td>\n",
       "      <td>NaN</td>\n",
       "      <td>NaN</td>\n",
       "      <td>im Gen.Verf.</td>\n",
       "      <td>2000000317</td>\n",
       "      <td>2</td>\n",
       "      <td>G20/2016/086</td>\n",
       "      <td>03.01.2024</td>\n",
       "      <td>LfU SH, Abtl. 7</td>\n",
       "    </tr>\n",
       "    <tr>\n",
       "      <th>2</th>\n",
       "      <td>Kiel</td>\n",
       "      <td>Kiel</td>\n",
       "      <td>Nordex N131 - 3,0 MW</td>\n",
       "      <td>Nordex</td>\n",
       "      <td>134</td>\n",
       "      <td>131</td>\n",
       "      <td>NaN</td>\n",
       "      <td>3000</td>\n",
       "      <td>kW Nennleist. Rotor.</td>\n",
       "      <td>32572497</td>\n",
       "      <td>6013607</td>\n",
       "      <td>NaN</td>\n",
       "      <td>NaN</td>\n",
       "      <td>im Gen.Verf.</td>\n",
       "      <td>2000000317</td>\n",
       "      <td>3</td>\n",
       "      <td>G20/2016/087</td>\n",
       "      <td>03.01.2024</td>\n",
       "      <td>LfU SH, Abtl. 7</td>\n",
       "    </tr>\n",
       "  </tbody>\n",
       "</table>\n",
       "</div>"
      ]
     },
     "execution_count": 11,
     "metadata": {},
     "output_type": "execute_result"
    }
   ],
   "execution_count": 11
  },
  {
   "metadata": {
    "ExecuteTime": {
     "end_time": "2024-04-26T21:30:58.485084Z",
     "start_time": "2024-04-26T21:30:58.480307Z"
    }
   },
   "cell_type": "code",
   "source": "len(df.BST_NR.unique())",
   "id": "fdb1ccaf9f5636fe",
   "outputs": [
    {
     "data": {
      "text/plain": [
       "1474"
      ]
     },
     "execution_count": 19,
     "metadata": {},
     "output_type": "execute_result"
    }
   ],
   "execution_count": 19
  },
  {
   "metadata": {
    "ExecuteTime": {
     "end_time": "2024-04-26T21:29:21.778218Z",
     "start_time": "2024-04-26T21:29:21.774158Z"
    }
   },
   "cell_type": "code",
   "source": "df.shape",
   "id": "e52dbaa3e860c1de",
   "outputs": [
    {
     "data": {
      "text/plain": [
       "(3943, 19)"
      ]
     },
     "execution_count": 15,
     "metadata": {},
     "output_type": "execute_result"
    }
   ],
   "execution_count": 15
  },
  {
   "metadata": {
    "ExecuteTime": {
     "end_time": "2024-04-26T21:30:35.835146Z",
     "start_time": "2024-04-26T21:30:35.830418Z"
    }
   },
   "cell_type": "code",
   "source": "1474*3",
   "id": "4089b11911bc0d62",
   "outputs": [
    {
     "data": {
      "text/plain": [
       "4422"
      ]
     },
     "execution_count": 18,
     "metadata": {},
     "output_type": "execute_result"
    }
   ],
   "execution_count": 18
  },
  {
   "metadata": {
    "ExecuteTime": {
     "end_time": "2024-04-26T21:41:43.950224Z",
     "start_time": "2024-04-26T21:41:43.943447Z"
    }
   },
   "cell_type": "code",
   "source": "df[\"Coordinate\"] = [(x, y) for x, y in zip(df.OSTWERT, df.NORDWERT)]",
   "id": "5ed9294af79bba43",
   "outputs": [],
   "execution_count": 32
  },
  {
   "metadata": {
    "ExecuteTime": {
     "end_time": "2024-04-26T21:42:37.744422Z",
     "start_time": "2024-04-26T21:42:37.739449Z"
    }
   },
   "cell_type": "code",
   "source": "len(df.Coordinate.unique())",
   "id": "c0fe8dd1b450d687",
   "outputs": [
    {
     "data": {
      "text/plain": [
       "3942"
      ]
     },
     "execution_count": 37,
     "metadata": {},
     "output_type": "execute_result"
    }
   ],
   "execution_count": 37
  },
  {
   "metadata": {
    "ExecuteTime": {
     "end_time": "2024-04-26T21:42:56.095668Z",
     "start_time": "2024-04-26T21:42:56.090855Z"
    }
   },
   "cell_type": "code",
   "source": "len(df.OSTWERT.unique())",
   "id": "255f41d38ce0b089",
   "outputs": [
    {
     "data": {
      "text/plain": [
       "3835"
      ]
     },
     "execution_count": 38,
     "metadata": {},
     "output_type": "execute_result"
    }
   ],
   "execution_count": 38
  },
  {
   "metadata": {},
   "cell_type": "code",
   "outputs": [],
   "execution_count": null,
   "source": "",
   "id": "94d943e45918085f"
  }
 ],
 "metadata": {
  "kernelspec": {
   "display_name": "Python 3",
   "language": "python",
   "name": "python3"
  },
  "language_info": {
   "codemirror_mode": {
    "name": "ipython",
    "version": 2
   },
   "file_extension": ".py",
   "mimetype": "text/x-python",
   "name": "python",
   "nbconvert_exporter": "python",
   "pygments_lexer": "ipython2",
   "version": "2.7.6"
  }
 },
 "nbformat": 4,
 "nbformat_minor": 5
}
